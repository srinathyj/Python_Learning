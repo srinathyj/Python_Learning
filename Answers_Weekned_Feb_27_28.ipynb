{
 "cells": [
  {
   "cell_type": "code",
   "execution_count": 9,
   "metadata": {},
   "outputs": [
    {
     "name": "stdout",
     "output_type": "stream",
     "text": [
      "problem statment1:\n",
      "*********************\n",
      "\"Chennai, India\"\n",
      "\"Bangkok, Thailand\"\n",
      "\"Pasadena, California\"\n"
     ]
    }
   ],
   "source": [
    "# problem statment1:\n",
    "print('problem statment1:')\n",
    "print('*********************')\n",
    "def city_country(city, country):\n",
    "    '''This Function takes two params as values a) city name and Country where city belongs to\n",
    "    and return's cityname Country as output'''\n",
    "    return '\"{}, {}\"'.format(city, country)\n",
    "\n",
    "\n",
    "# directly printing the function with arguments\n",
    "print(city_country('Chennai', 'India' ))\n",
    "print(city_country('Bangkok', 'Thailand' ))\n",
    "\n",
    "# Assigning to an variable which becomes an object for that function and printing the function with arguments\n",
    "\n",
    "citycountry= city_country('Pasadena', 'California')\n",
    "print(citycountry)"
   ]
  },
  {
   "cell_type": "code",
   "execution_count": 10,
   "metadata": {},
   "outputs": [
    {
     "name": "stdout",
     "output_type": "stream",
     "text": [
      "Problem statment : 2 concept : arbitary arguments\n",
      "****************************************************\n",
      "---------------------------------------------------\n",
      "             Order Summary              \n",
      "---------------------------------------------------\n",
      "Sandwich odered and should have below items in it\n",
      "--> Carrort\n",
      "--> Potato\n",
      "--> Cheese\n",
      "--------------------------------------------------\n",
      "---------------------------------------------------\n",
      "             Order Summary              \n",
      "---------------------------------------------------\n",
      "Sandwich odered and should have below items in it\n",
      "--> Beet\n",
      "--> Arugula\n",
      "--> Goat Cheese\n",
      "--> Bell Pepper\n",
      "--------------------------------------------------\n",
      "---------------------------------------------------\n",
      "             Order Summary              \n",
      "---------------------------------------------------\n",
      "Sandwich odered and should have below items in it\n",
      "--> Broccoli \n",
      "--> Roasted Red Pepper\n",
      "--> Onion\n",
      "--> Roasted Garlic\n",
      "--> Shredded Cabbage\n",
      "--------------------------------------------------\n"
     ]
    }
   ],
   "source": [
    "# Problem statment : 2\n",
    "# concept : arbitary arguments\n",
    "print('Problem statment : 2 concept : arbitary arguments')\n",
    "print('****************************************************')\n",
    "def sandwich(*items):\n",
    "    '''This function collects as many items provided, and prints a summary \n",
    "    of the sandwich that’s being ordered'''\n",
    "    print('---------------------------------------------------')\n",
    "    print('Order Summary'.center(40))\n",
    "    print('---------------------------------------------------')\n",
    "    print('Sandwich odered and should have below items in it')\n",
    "    for i in items:\n",
    "        print('-->',i.title())\n",
    "    print('--------------------------------------------------')\n",
    "\n",
    "# you can directly call the function as it is printing the items\n",
    "sandwich('carrort', 'potato', 'cheese')\n",
    "sandwich('Beet', 'Arugula', 'Goat Cheese', 'Bell Pepper')\n",
    "sandwich('Broccoli ', 'Roasted Red Pepper', 'Onion', 'Roasted Garlic', 'Shredded Cabbage')\n",
    "\n"
   ]
  },
  {
   "cell_type": "code",
   "execution_count": 11,
   "metadata": {},
   "outputs": [
    {
     "name": "stdout",
     "output_type": "stream",
     "text": [
      "problem statment 3: 9-1 Restaurant:\n",
      "****************************************************\n",
      "\n",
      "`````````````````````````````````````````````````````````````\n",
      "Benjarong\n",
      "Thai\n",
      "\n",
      "`````````````````````````````````````````````````````````````\n",
      "Restaurant Name: Benjarong\n",
      "Cuisine Type: Thai\n",
      "Restaurant Benjarong is now Open... Welcome!!\n",
      "\n",
      "`````````````````````````````````````````````````````````````\n"
     ]
    }
   ],
   "source": [
    "# problem statment 3: 9-1 Restaurant:\n",
    "print('problem statment 3: 9-1 Restaurant:')\n",
    "print('****************************************************')\n",
    "class Restaurant:\n",
    "    \n",
    "    ''' This class has two methods describe_restaurant() and open_restaurant() \n",
    "    describe_restaurant()  takes in two params restaurant name and cuisine type\n",
    "    open_restaurant() prints the message that the restaurant is open and also\n",
    "    has a constructor __init__() for instantiating objects \n",
    "    (here - variables (or params passed)'''\n",
    "    \n",
    "    def __init__(self, restaurant_name, cuisine_type):\n",
    "        # restaurant_name variable for string name of Restaurant\n",
    "        # cuisine_type variable for storing Cuisine type\n",
    "        self.restaurant_name = restaurant_name.title()\n",
    "        self.cuisine_type = cuisine_type.title()\n",
    "        \n",
    "    def describe_restaurant(self):\n",
    "        print('Restaurant Name: {}'.format(self.restaurant_name))\n",
    "        print('Cuisine Type: {}'.format(self.cuisine_type))\n",
    "              \n",
    "            \n",
    "    def open_restaurant(self):\n",
    "        print('Restaurant {} is now Open... Welcome!!'.format(self.restaurant_name))\n",
    "\n",
    "# Creating an instance restaurant\n",
    "restaurant = Restaurant('Benjarong', 'Thai')\n",
    "\n",
    "#printing  restaurant name and cuisine using attributes\n",
    "print('\\n`````````````````````````````````````````````````````````````')\n",
    "print(restaurant.restaurant_name)\n",
    "print(restaurant.cuisine_type)\n",
    "\n",
    "print('\\n`````````````````````````````````````````````````````````````')\n",
    "#Calling both methods describe_restaurant() and open_restaurant()\n",
    "\n",
    "restaurant.describe_restaurant()\n",
    "restaurant.open_restaurant()\n",
    "\n",
    "print('\\n`````````````````````````````````````````````````````````````')"
   ]
  },
  {
   "cell_type": "code",
   "execution_count": 12,
   "metadata": {},
   "outputs": [
    {
     "name": "stdout",
     "output_type": "stream",
     "text": [
      "problem statment 3: 9-2 Three Restaurants:\n",
      "****************************************************\n",
      "Restaurant Name: Peshawari\n",
      "Cuisine Type: North Indian\n",
      "\n",
      "`````````````````````````````````````````````````````````````\n",
      "Restaurant Name: Taco Bell\n",
      "Cuisine Type: Mexican\n",
      "\n",
      "`````````````````````````````````````````````````````````````\n",
      "Restaurant Name: Little Italy\n",
      "Cuisine Type: Italian\n"
     ]
    }
   ],
   "source": [
    "#problem statment 3: 9-2 Three Restaurants:\n",
    "print('problem statment 3: 9-2 Three Restaurants:')\n",
    "print('****************************************************')\n",
    "# Creating different instances 1) Indian , Mexican and Italian and calling\n",
    "# describe_restaurant() from created instances\n",
    "\n",
    "indian = Restaurant('Peshawari', 'North Indian')\n",
    "indian.describe_restaurant()\n",
    "\n",
    "print('\\n`````````````````````````````````````````````````````````````')\n",
    "mexican = Restaurant('Taco Bell', 'Mexican')\n",
    "mexican.describe_restaurant()\n",
    "\n",
    "print('\\n`````````````````````````````````````````````````````````````')\n",
    "italian = Restaurant('Little Italy', 'Italian')\n",
    "italian.describe_restaurant()\n",
    "\n"
   ]
  },
  {
   "cell_type": "code",
   "execution_count": 15,
   "metadata": {},
   "outputs": [
    {
     "name": "stdout",
     "output_type": "stream",
     "text": [
      "problem statment 3: 9-3. Users:\n",
      "***********************************\n",
      "\n",
      "`````````````````````````````````````````````````````````````\n",
      "First Name : John\n",
      "Last Name : Doe\n",
      "Skillset : Python\n",
      "Location : CANADA\n",
      "Email : john.doe@company.com\n",
      "Welcome John !!! I see that you are from CANADA and skilled in Python\n",
      "\n",
      "`````````````````````````````````````````````````````````````\n",
      "First Name : Jane\n",
      "Last Name : Doe\n",
      "Skillset : Java\n",
      "Location : USA\n",
      "Email : jane.doe@company.com\n",
      "Welcome Jane !!! I see that you are from USA and skilled in Java\n",
      "\n",
      "`````````````````````````````````````````````````````````````\n",
      "First Name : Jim\n",
      "Last Name : Carry\n",
      "Skillset : Linux Shell Scripting\n",
      "Location : ITALY\n",
      "Email : jim.carry@company.com\n",
      "Welcome Jim !!! I see that you are from ITALY and skilled in Linux Shell Scripting\n"
     ]
    }
   ],
   "source": [
    "#problem statment 3: 9-3. Users:\n",
    "print('problem statment 3: 9-3. Users:')\n",
    "print('***********************************')\n",
    "\n",
    "class User:\n",
    "    '''Class User takes in first_name, last_name, skill_set & location\n",
    "    derives email out of it automatically and has two functions\n",
    "    describe_user() : which prints user details\n",
    "    greet_user(): Which greets the added user'''\n",
    "    \n",
    "    def __init__(self, first_name, last_name, skill_set, location):\n",
    "        self.first_name = first_name.title()\n",
    "        self.last_name = last_name.title()\n",
    "        self.skill_set = skill_set.title()\n",
    "        self.location = location.upper()\n",
    "        self.email = '{}.{}@company.com'.format(self.first_name.lower(), self.last_name.lower())\n",
    "    \n",
    "    def describe_user(self):\n",
    "        print('First Name : {}'.format(self.first_name))\n",
    "        print('Last Name : {}'.format(self.last_name))\n",
    "        print('Skillset : {}'.format(self.skill_set))\n",
    "        print('Location : {}'.format(self.location))\n",
    "        print('Email : {}'.format(self.email))\n",
    "    \n",
    "    def greet_user(self):\n",
    "        print ('Welcome {} !!! I see that you are from {} and skilled in {}'.format(self.first_name,self.location,self.skill_set))\n",
    "              \n",
    "\n",
    "#creating 3 user instances user_1, user_2 and user_3 and calling\n",
    "# describe_user() and greet_user() from each\n",
    "print('\\n`````````````````````````````````````````````````````````````')\n",
    "user_1 = User('John','Doe','Python','Canada')\n",
    "user_1.describe_user()\n",
    "user_1.greet_user()\n",
    "\n",
    "print('\\n`````````````````````````````````````````````````````````````')\n",
    "user_2 = User('Jane','Doe','Java','USA')\n",
    "user_2.describe_user()\n",
    "user_2.greet_user()\n",
    "print('\\n`````````````````````````````````````````````````````````````')\n",
    "user_1 = User('Jim','carry','Linux Shell Scripting','Italy')\n",
    "user_1.describe_user()\n",
    "user_1.greet_user()"
   ]
  },
  {
   "cell_type": "code",
   "execution_count": null,
   "metadata": {},
   "outputs": [],
   "source": []
  }
 ],
 "metadata": {
  "kernelspec": {
   "display_name": "Python 3",
   "language": "python",
   "name": "python3"
  },
  "language_info": {
   "codemirror_mode": {
    "name": "ipython",
    "version": 3
   },
   "file_extension": ".py",
   "mimetype": "text/x-python",
   "name": "python",
   "nbconvert_exporter": "python",
   "pygments_lexer": "ipython3",
   "version": "3.8.5"
  }
 },
 "nbformat": 4,
 "nbformat_minor": 4
}
