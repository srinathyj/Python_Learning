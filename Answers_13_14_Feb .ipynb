{
 "cells": [
  {
   "cell_type": "markdown",
   "metadata": {},
   "source": [
    "# What is a variable?"
   ]
  },
  {
   "cell_type": "markdown",
   "metadata": {},
   "source": [
    "Variable is a reserved memory location to store values to be later used or called in a program"
   ]
  },
  {
   "cell_type": "markdown",
   "metadata": {},
   "source": [
    "# What are the built-in datatypes in Python?"
   ]
  },
  {
   "cell_type": "markdown",
   "metadata": {},
   "source": [
    "Built-in types (also called fundamental types) are standard to a launguage and are built into the compiler.\n",
    "Text Type:\tstr\n",
    "Numeric Types:\tint, float\n",
    "Sequence Types:\tlist, tuple\n",
    "Mapping Type:\tdict\n",
    "Set Types:\tset\n",
    "Boolean Type:\tbool"
   ]
  },
  {
   "cell_type": "code",
   "execution_count": 12,
   "metadata": {},
   "outputs": [
    {
     "name": "stdout",
     "output_type": "stream",
     "text": [
      "h\n"
     ]
    }
   ],
   "source": [
    "#Assuming (name = “sham kumar”), what does name[1] return?\n",
    "name = \"sham kumar\"\n",
    "print(name[1])"
   ]
  },
  {
   "cell_type": "code",
   "execution_count": 13,
   "metadata": {},
   "outputs": [
    {
     "name": "stdout",
     "output_type": "stream",
     "text": [
      "a\n"
     ]
    }
   ],
   "source": [
    "#What about name[-2]?\n",
    "name = \"sham kumar\"\n",
    "print(name[-2])"
   ]
  },
  {
   "cell_type": "code",
   "execution_count": 14,
   "metadata": {},
   "outputs": [
    {
     "name": "stdout",
     "output_type": "stream",
     "text": [
      "ham kuma\n"
     ]
    }
   ],
   "source": [
    "#What about name[1:-1]?\n",
    "name = \"sham kumar\"\n",
    "print(name[1:-1])"
   ]
  },
  {
   "cell_type": "code",
   "execution_count": 16,
   "metadata": {},
   "outputs": [
    {
     "name": "stdout",
     "output_type": "stream",
     "text": [
      "10\n"
     ]
    }
   ],
   "source": [
    "#How to get the length of name?\n",
    "name = \"sham kumar\"\n",
    "print(len(name))"
   ]
  },
  {
   "cell_type": "code",
   "execution_count": 17,
   "metadata": {},
   "outputs": [
    {
     "name": "stdout",
     "output_type": "stream",
     "text": [
      "Sham Kumar\n"
     ]
    }
   ],
   "source": [
    "#Given (name = “sham kumar”), what will name.title() return?\n",
    "name = \"sham kumar\"\n",
    "print(name.title())"
   ]
  },
  {
   "cell_type": "code",
   "execution_count": 18,
   "metadata": {},
   "outputs": [
    {
     "name": "stdout",
     "output_type": "stream",
     "text": [
      "sham kumar\n"
     ]
    }
   ],
   "source": [
    "#What does name.strip() do?\n",
    "name = \"sham kumar\"\n",
    "print(name.strip())\n",
    "# removed leading and Trailing spaces"
   ]
  },
  {
   "cell_type": "code",
   "execution_count": 24,
   "metadata": {},
   "outputs": [
    {
     "name": "stdout",
     "output_type": "stream",
     "text": [
      "5\n"
     ]
    }
   ],
   "source": [
    "#What will name.find(“kumar”) return?\n",
    "name = \"sham kumar\"\n",
    "print(name.find(\"kumar\"))"
   ]
  },
  {
   "cell_type": "code",
   "execution_count": 26,
   "metadata": {},
   "outputs": [
    {
     "name": "stdout",
     "output_type": "stream",
     "text": [
      "kham kumar\n"
     ]
    }
   ],
   "source": [
    "#What will be the value of name after we call name.replace(“s”, “k”)?\n",
    "name = \"sham kumar\"\n",
    "print(name.replace(\"s\",\"k\"))"
   ]
  },
  {
   "cell_type": "code",
   "execution_count": 34,
   "metadata": {},
   "outputs": [
    {
     "name": "stdout",
     "output_type": "stream",
     "text": [
      "0\n",
      "\" sham \" found in string sham kumar\n"
     ]
    }
   ],
   "source": [
    "#How can we check to see if name contains “sham”?\n",
    "name = \"sham kumar\"\n",
    "txt=\"sham\"\n",
    "print(name.find(txt))\n",
    "if name.find(txt) >= 0:\n",
    "    print('\"',txt,'\"',\"found in string\", name)    "
   ]
  },
  {
   "cell_type": "code",
   "execution_count": 73,
   "metadata": {},
   "outputs": [
    {
     "name": "stdout",
     "output_type": "stream",
     "text": [
      "Enter numbers sperating them by comma's :2,8,9,5,10\n",
      "[2, 8, 9, 5, 10]\n",
      "(2, 8, 9, 5, 10)\n"
     ]
    }
   ],
   "source": [
    "#Write a Python program which accepts a sequence of comma-separated numbers from user \n",
    "#and generate a list and a tuple with those numbers. Go to the editor Sample data : 2,8,9,5,10\n",
    "myinput=input(\"Enter numbers sperating them by comma's :\")\n",
    "txtlist=myinput.split(\",\")\n",
    "intlist=[]\n",
    "for l in txtlist:\n",
    "    intlist.append(int(l))\n",
    "print(intlist)\n",
    "print(tuple(intlist))"
   ]
  },
  {
   "cell_type": "code",
   "execution_count": 81,
   "metadata": {},
   "outputs": [
    {
     "name": "stdout",
     "output_type": "stream",
     "text": [
      "First color is - Pink and the last color is - Yellow\n"
     ]
    }
   ],
   "source": [
    "# Write a Python program to display the first and last colors from the following list. \n",
    "color_list = [\"Pink\",\"Orange\",\"Red\",\"Yellow\"]\n",
    "print(\"First color is - {} and the last color is - {}\".format(color_list[0],color_list[-1]))"
   ]
  },
  {
   "cell_type": "code",
   "execution_count": 89,
   "metadata": {},
   "outputs": [
    {
     "name": "stdout",
     "output_type": "stream",
     "text": [
      "honda\n",
      "40\n",
      "15\n",
      "15\n",
      "kumar\n"
     ]
    }
   ],
   "source": [
    "#Create a variable named bike and assign the value honda to it.\n",
    "#Create a variable named x and assign the value 40 to it.\n",
    "#Display the sum of 5 + 10, using two variables: x and y.\n",
    "#Create a variable called z, assign x + y to it, and display the result.\n",
    "#Remove the illegal characters in the variable name:\n",
    "#2my-last_name = \"kumar\"\n",
    "bike = \"honda\"\n",
    "print(bike)\n",
    "x = 40\n",
    "print(x)\n",
    "x=5\n",
    "y=10\n",
    "print(x+y)\n",
    "z = x + y\n",
    "print(z)\n",
    "my_last_name = \"kumar\"\n",
    "#2my-last_name = \"kumar\"\n",
    "print(my_last_name)"
   ]
  },
  {
   "cell_type": "code",
   "execution_count": 140,
   "metadata": {},
   "outputs": [
    {
     "name": "stdout",
     "output_type": "stream",
     "text": [
      "{'a': 'apple', 'b': 'apple', 'c': 'apple'}\n",
      "********************************************************************************\n",
      "20\n",
      "m\n",
      " fi\n",
      "********************************************************************************\n",
      "   my first name is ram\n",
      "my first name is ram\n",
      "********************************************************************************\n",
      "values\n",
      "********************************************************************************\n",
      "VJLUES\n"
     ]
    }
   ],
   "source": [
    "#Insert the correct syntax to assign the same value to all three variables in one code line.\n",
    "#variables=a,b,c\n",
    "#value=\"apple\"\n",
    "variables=\"a\",\"b\",\"c\"\n",
    "value=\"apple\"\n",
    "print(dict.fromkeys(variables,value))\n",
    "print(\"********************************************************************************\")\n",
    "\n",
    "#Use the len method to print the length of the string.\n",
    "#string=\"my first name is ram\"\n",
    "#Get the first character of the string txt.\n",
    "#Get the characters from index 2 to index 4 (llo).\n",
    "\n",
    "string=\"my first name is ram\"\n",
    "print(len(string))\n",
    "print(string[0])\n",
    "print(string[2:5])\n",
    "print(\"********************************************************************************\")\n",
    "#Return the string without any whitespace at the beginning or the end.\n",
    "#string=\"   my first name is ram  \"Convert the value of txt to upper case.\n",
    "\n",
    "string=\"   my first name is ram\"\n",
    "print(string)\n",
    "print(string.strip())\n",
    "print(\"********************************************************************************\")\n",
    "#Convert the value of txt to lower case.\n",
    "#string= \"VALUES\"\n",
    "\n",
    "string= \"VALUES\"\n",
    "print(string.lower())\n",
    "print(\"********************************************************************************\")\n",
    "#Replace the character A with a J.\n",
    "#string= \"VALUES\"\n",
    "\n",
    "string= \"VALUES\"\n",
    "print(string.replace(\"A\",\"J\"))"
   ]
  },
  {
   "cell_type": "code",
   "execution_count": 158,
   "metadata": {},
   "outputs": [
    {
     "name": "stdout",
     "output_type": "stream",
     "text": [
      "True\n",
      "********************************************************************************\n",
      "False\n",
      "********************************************************************************\n",
      "grapes\n",
      "********************************************************************************\n",
      "['orange', 'grapes', 'dragon', 'kiwi']\n",
      "********************************************************************************\n",
      "['apple', 'grapes', 'dragon', 'kiwi', 'orange']\n",
      "********************************************************************************\n",
      "['apple', 'Lemon', 'grapes', 'dragon', 'kiwi']\n",
      "********************************************************************************\n",
      "['Lemon', 'grapes', 'dragon', 'kiwi']\n",
      "********************************************************************************\n",
      "kiwi\n",
      "********************************************************************************\n",
      "grapes\n",
      "dragon\n",
      "kiwi\n",
      "********************************************************************************\n",
      "6\n",
      "********************************************************************************\n",
      "apple\n",
      "********************************************************************************\n",
      "6\n",
      "********************************************************************************\n",
      "orange\n",
      "********************************************************************************\n",
      "grapes\n",
      "dragon\n",
      "kiwi\n",
      "********************************************************************************\n",
      "Activa\n",
      "********************************************************************************\n",
      "{'Make': 'Honda', 'Model': 'Activa', 'Year': 2020}\n",
      "********************************************************************************\n",
      "{'Make': 'BMW', 'Model': '520d', 'Year': 2020, 'Color': 'Green'}\n",
      "********************************************************************************\n",
      "{'Make': 'Honda', 'Year': 1990}\n",
      "********************************************************************************\n",
      "{}\n"
     ]
    }
   ],
   "source": [
    "#The statement below would print a Boolean value, which one?\n",
    "#print(109 > 99)\n",
    "\n",
    "#Ans True\n",
    "print(109 > 99)\n",
    "print(\"********************************************************************************\")\n",
    "#The statement below would print a Boolean value, which one?\n",
    "#print(110 == 80)\n",
    "\n",
    "#Ans False\n",
    "print(110 == 80)\n",
    "print(\"********************************************************************************\")\n",
    "#Print the second item in the fruits list.\n",
    "\n",
    "fruits=[\"apple\",\"grapes\",\"dragon\",\"kiwi\"]\n",
    "print(fruits[1])\n",
    "print(\"********************************************************************************\")\n",
    "#Change the value from \"apple\" to \"orange\", in the fruits list.\n",
    "\n",
    "fruits=[\"apple\",\"grapes\",\"dragon\",\"kiwi\"]\n",
    "for index,value in enumerate(fruits):\n",
    "    if value == \"apple\":\n",
    "        fruits[index]=\"orange\"\n",
    "print(fruits)\n",
    "print(\"********************************************************************************\")\n",
    "#Use the append method to add \"orange\" to the fruits list.\n",
    "\n",
    "fruits=[\"apple\",\"grapes\",\"dragon\",\"kiwi\"]\n",
    "fruits.append(\"orange\")\n",
    "print(fruits)\n",
    "print(\"********************************************************************************\")\n",
    "#Use the insert method to add \"lemon\" as the second item in the fruits list.\n",
    "\n",
    "fruits=[\"apple\",\"grapes\",\"dragon\",\"kiwi\"]\n",
    "fruits.insert(1,\"Lemon\")\n",
    "print(fruits)\n",
    "print(\"********************************************************************************\")\n",
    "#Use the remove method to remove \"apple\" from the fruits list.\n",
    "\n",
    "fruits=['apple', 'Lemon', 'grapes', 'dragon', 'kiwi']\n",
    "fruits.remove(\"apple\")\n",
    "print(fruits)\n",
    "print(\"********************************************************************************\")\n",
    "#Use negative indexing to print the last item in the list.\n",
    "\n",
    "fruits= ['Lemon', 'grapes', 'dragon', 'kiwi']\n",
    "print(fruits[-1])\n",
    "print(\"********************************************************************************\")\n",
    "#Use a range of indexes to print the third, fourth, and fifth item in the list.\n",
    "\n",
    "fruits=['apple', 'Lemon', 'grapes', 'dragon', 'kiwi',\"orange\"]\n",
    "for i in range(2,5):\n",
    "     print(fruits[i])\n",
    "print(\"********************************************************************************\")\n",
    "\n",
    "#Use the correct syntax to print the number of items in the list.\n",
    "\n",
    "fruits=['apple', 'Lemon', 'grapes', 'dragon', 'kiwi',\"orange\"]\n",
    "print(len(fruits))\n",
    "print(\"********************************************************************************\")\n",
    "\n",
    "#Use the correct syntax to print the first item in the fruits tuple.\n",
    "fruits=('apple', 'Lemon', 'grapes', 'dragon', 'kiwi',\"orange\")\n",
    "print(fruits[0])\n",
    "print(\"********************************************************************************\")\n",
    "\n",
    "#Use the correct syntax to print the number of items in the fruits tuple.\n",
    "fruits=('apple', 'Lemon', 'grapes', 'dragon', 'kiwi',\"orange\")\n",
    "print(len(fruits))\n",
    "print(\"********************************************************************************\")\n",
    "\n",
    "#Use negative indexing to print the last item in the tuple.\n",
    "fruits=('apple', 'Lemon', 'grapes', 'dragon', 'kiwi',\"orange\")\n",
    "print(fruits[-1])\n",
    "print(\"********************************************************************************\")\n",
    "\n",
    "#Use a range of indexes to print the third, fourth, and fifth item in the tuple.\n",
    "fruits=('apple', 'Lemon', 'grapes', 'dragon', 'kiwi',\"orange\")\n",
    "for i in range(2,5):\n",
    "     print(fruits[i])\n",
    "print(\"********************************************************************************\")\n",
    "#Use the get method to print the value of the \"model\" key of the bike dictionary.\n",
    "bike={\"Make\":\"Honda\",\"Model\":\"Activa\",\"Year\":2020}\n",
    "print(bike.get(\"Model\"))\n",
    "print(\"********************************************************************************\")\n",
    "#Change the \"year\" value from 1990 to 2021.\n",
    "bike={\"Make\":\"Honda\",\"Model\":\"Activa\",\"Year\":1990}\n",
    "bike[\"Year\"] = 2020\n",
    "print(bike)\n",
    "print(\"********************************************************************************\")\n",
    "\n",
    "#Add the key/value pair \"color\" : \"green\" to the car dictionary.\n",
    "car={\"Make\":\"BMW\",\"Model\":\"520d\",\"Year\":2020}\n",
    "car.update({\"Color\":\"Green\"})\n",
    "print(car)\n",
    "print(\"********************************************************************************\")\n",
    "\n",
    "#Use the pop method to remove \"model\" from the bike dictionary.\n",
    "bike={\"Make\":\"Honda\",\"Model\":\"Activa\",\"Year\":1990}\n",
    "bike.pop(\"Model\")\n",
    "print(bike)\n",
    "print(\"********************************************************************************\")\n",
    "\n",
    "#Use the clear method to empty the car dictionary.\n",
    "car={\"Make\":\"BMW\",\"Model\":\"520d\",\"Year\":2020}\n",
    "car.clear()\n",
    "print(car)\n"
   ]
  }
 ],
 "metadata": {
  "kernelspec": {
   "display_name": "Python 3",
   "language": "python",
   "name": "python3"
  },
  "language_info": {
   "codemirror_mode": {
    "name": "ipython",
    "version": 3
   },
   "file_extension": ".py",
   "mimetype": "text/x-python",
   "name": "python",
   "nbconvert_exporter": "python",
   "pygments_lexer": "ipython3",
   "version": "3.8.5"
  }
 },
 "nbformat": 4,
 "nbformat_minor": 4
}
